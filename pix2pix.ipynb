{
  "nbformat": 4,
  "nbformat_minor": 0,
  "metadata": {
    "colab": {
      "provenance": [],
      "gpuType": "T4"
    },
    "kernelspec": {
      "name": "python3",
      "display_name": "Python 3"
    },
    "language_info": {
      "name": "python"
    },
    "accelerator": "GPU",
    "widgets": {
      "application/vnd.jupyter.widget-state+json": {
        "c258c2ca647a4183851ea09b82bdfd55": {
          "model_module": "@jupyter-widgets/controls",
          "model_name": "HBoxModel",
          "model_module_version": "1.5.0",
          "state": {
            "_dom_classes": [],
            "_model_module": "@jupyter-widgets/controls",
            "_model_module_version": "1.5.0",
            "_model_name": "HBoxModel",
            "_view_count": null,
            "_view_module": "@jupyter-widgets/controls",
            "_view_module_version": "1.5.0",
            "_view_name": "HBoxView",
            "box_style": "",
            "children": [
              "IPY_MODEL_599030d4a887417ab3c3380b7b4b344b",
              "IPY_MODEL_7426e4aed8af4354a3b8a53e242262f6",
              "IPY_MODEL_10cda181d78c4a71ae10a26410f1e583"
            ],
            "layout": "IPY_MODEL_4e7e39212534477ebd4edc0f9f5faf2f"
          }
        },
        "599030d4a887417ab3c3380b7b4b344b": {
          "model_module": "@jupyter-widgets/controls",
          "model_name": "HTMLModel",
          "model_module_version": "1.5.0",
          "state": {
            "_dom_classes": [],
            "_model_module": "@jupyter-widgets/controls",
            "_model_module_version": "1.5.0",
            "_model_name": "HTMLModel",
            "_view_count": null,
            "_view_module": "@jupyter-widgets/controls",
            "_view_module_version": "1.5.0",
            "_view_name": "HTMLView",
            "description": "",
            "description_tooltip": null,
            "layout": "IPY_MODEL_ae038dad717848349fb92221fe7662e8",
            "placeholder": "​",
            "style": "IPY_MODEL_10d9646deadc49059bb4ea036cc4171e",
            "value": "100%"
          }
        },
        "7426e4aed8af4354a3b8a53e242262f6": {
          "model_module": "@jupyter-widgets/controls",
          "model_name": "FloatProgressModel",
          "model_module_version": "1.5.0",
          "state": {
            "_dom_classes": [],
            "_model_module": "@jupyter-widgets/controls",
            "_model_module_version": "1.5.0",
            "_model_name": "FloatProgressModel",
            "_view_count": null,
            "_view_module": "@jupyter-widgets/controls",
            "_view_module_version": "1.5.0",
            "_view_name": "ProgressView",
            "bar_style": "success",
            "description": "",
            "description_tooltip": null,
            "layout": "IPY_MODEL_606b665382274403bdb9d2c6968f8554",
            "max": 50,
            "min": 0,
            "orientation": "horizontal",
            "style": "IPY_MODEL_33ad43d4ea864c6cbcd0d64a4e3b5e4d",
            "value": 50
          }
        },
        "10cda181d78c4a71ae10a26410f1e583": {
          "model_module": "@jupyter-widgets/controls",
          "model_name": "HTMLModel",
          "model_module_version": "1.5.0",
          "state": {
            "_dom_classes": [],
            "_model_module": "@jupyter-widgets/controls",
            "_model_module_version": "1.5.0",
            "_model_name": "HTMLModel",
            "_view_count": null,
            "_view_module": "@jupyter-widgets/controls",
            "_view_module_version": "1.5.0",
            "_view_name": "HTMLView",
            "description": "",
            "description_tooltip": null,
            "layout": "IPY_MODEL_d987658194e749018be6efc205f0e44d",
            "placeholder": "​",
            "style": "IPY_MODEL_14b9b4efacac41e0a7f412cb06a63fd3",
            "value": " 50/50 [00:06&lt;00:00,  7.43it/s]"
          }
        },
        "4e7e39212534477ebd4edc0f9f5faf2f": {
          "model_module": "@jupyter-widgets/base",
          "model_name": "LayoutModel",
          "model_module_version": "1.2.0",
          "state": {
            "_model_module": "@jupyter-widgets/base",
            "_model_module_version": "1.2.0",
            "_model_name": "LayoutModel",
            "_view_count": null,
            "_view_module": "@jupyter-widgets/base",
            "_view_module_version": "1.2.0",
            "_view_name": "LayoutView",
            "align_content": null,
            "align_items": null,
            "align_self": null,
            "border": null,
            "bottom": null,
            "display": null,
            "flex": null,
            "flex_flow": null,
            "grid_area": null,
            "grid_auto_columns": null,
            "grid_auto_flow": null,
            "grid_auto_rows": null,
            "grid_column": null,
            "grid_gap": null,
            "grid_row": null,
            "grid_template_areas": null,
            "grid_template_columns": null,
            "grid_template_rows": null,
            "height": null,
            "justify_content": null,
            "justify_items": null,
            "left": null,
            "margin": null,
            "max_height": null,
            "max_width": null,
            "min_height": null,
            "min_width": null,
            "object_fit": null,
            "object_position": null,
            "order": null,
            "overflow": null,
            "overflow_x": null,
            "overflow_y": null,
            "padding": null,
            "right": null,
            "top": null,
            "visibility": null,
            "width": null
          }
        },
        "ae038dad717848349fb92221fe7662e8": {
          "model_module": "@jupyter-widgets/base",
          "model_name": "LayoutModel",
          "model_module_version": "1.2.0",
          "state": {
            "_model_module": "@jupyter-widgets/base",
            "_model_module_version": "1.2.0",
            "_model_name": "LayoutModel",
            "_view_count": null,
            "_view_module": "@jupyter-widgets/base",
            "_view_module_version": "1.2.0",
            "_view_name": "LayoutView",
            "align_content": null,
            "align_items": null,
            "align_self": null,
            "border": null,
            "bottom": null,
            "display": null,
            "flex": null,
            "flex_flow": null,
            "grid_area": null,
            "grid_auto_columns": null,
            "grid_auto_flow": null,
            "grid_auto_rows": null,
            "grid_column": null,
            "grid_gap": null,
            "grid_row": null,
            "grid_template_areas": null,
            "grid_template_columns": null,
            "grid_template_rows": null,
            "height": null,
            "justify_content": null,
            "justify_items": null,
            "left": null,
            "margin": null,
            "max_height": null,
            "max_width": null,
            "min_height": null,
            "min_width": null,
            "object_fit": null,
            "object_position": null,
            "order": null,
            "overflow": null,
            "overflow_x": null,
            "overflow_y": null,
            "padding": null,
            "right": null,
            "top": null,
            "visibility": null,
            "width": null
          }
        },
        "10d9646deadc49059bb4ea036cc4171e": {
          "model_module": "@jupyter-widgets/controls",
          "model_name": "DescriptionStyleModel",
          "model_module_version": "1.5.0",
          "state": {
            "_model_module": "@jupyter-widgets/controls",
            "_model_module_version": "1.5.0",
            "_model_name": "DescriptionStyleModel",
            "_view_count": null,
            "_view_module": "@jupyter-widgets/base",
            "_view_module_version": "1.2.0",
            "_view_name": "StyleView",
            "description_width": ""
          }
        },
        "606b665382274403bdb9d2c6968f8554": {
          "model_module": "@jupyter-widgets/base",
          "model_name": "LayoutModel",
          "model_module_version": "1.2.0",
          "state": {
            "_model_module": "@jupyter-widgets/base",
            "_model_module_version": "1.2.0",
            "_model_name": "LayoutModel",
            "_view_count": null,
            "_view_module": "@jupyter-widgets/base",
            "_view_module_version": "1.2.0",
            "_view_name": "LayoutView",
            "align_content": null,
            "align_items": null,
            "align_self": null,
            "border": null,
            "bottom": null,
            "display": null,
            "flex": null,
            "flex_flow": null,
            "grid_area": null,
            "grid_auto_columns": null,
            "grid_auto_flow": null,
            "grid_auto_rows": null,
            "grid_column": null,
            "grid_gap": null,
            "grid_row": null,
            "grid_template_areas": null,
            "grid_template_columns": null,
            "grid_template_rows": null,
            "height": null,
            "justify_content": null,
            "justify_items": null,
            "left": null,
            "margin": null,
            "max_height": null,
            "max_width": null,
            "min_height": null,
            "min_width": null,
            "object_fit": null,
            "object_position": null,
            "order": null,
            "overflow": null,
            "overflow_x": null,
            "overflow_y": null,
            "padding": null,
            "right": null,
            "top": null,
            "visibility": null,
            "width": null
          }
        },
        "33ad43d4ea864c6cbcd0d64a4e3b5e4d": {
          "model_module": "@jupyter-widgets/controls",
          "model_name": "ProgressStyleModel",
          "model_module_version": "1.5.0",
          "state": {
            "_model_module": "@jupyter-widgets/controls",
            "_model_module_version": "1.5.0",
            "_model_name": "ProgressStyleModel",
            "_view_count": null,
            "_view_module": "@jupyter-widgets/base",
            "_view_module_version": "1.2.0",
            "_view_name": "StyleView",
            "bar_color": null,
            "description_width": ""
          }
        },
        "d987658194e749018be6efc205f0e44d": {
          "model_module": "@jupyter-widgets/base",
          "model_name": "LayoutModel",
          "model_module_version": "1.2.0",
          "state": {
            "_model_module": "@jupyter-widgets/base",
            "_model_module_version": "1.2.0",
            "_model_name": "LayoutModel",
            "_view_count": null,
            "_view_module": "@jupyter-widgets/base",
            "_view_module_version": "1.2.0",
            "_view_name": "LayoutView",
            "align_content": null,
            "align_items": null,
            "align_self": null,
            "border": null,
            "bottom": null,
            "display": null,
            "flex": null,
            "flex_flow": null,
            "grid_area": null,
            "grid_auto_columns": null,
            "grid_auto_flow": null,
            "grid_auto_rows": null,
            "grid_column": null,
            "grid_gap": null,
            "grid_row": null,
            "grid_template_areas": null,
            "grid_template_columns": null,
            "grid_template_rows": null,
            "height": null,
            "justify_content": null,
            "justify_items": null,
            "left": null,
            "margin": null,
            "max_height": null,
            "max_width": null,
            "min_height": null,
            "min_width": null,
            "object_fit": null,
            "object_position": null,
            "order": null,
            "overflow": null,
            "overflow_x": null,
            "overflow_y": null,
            "padding": null,
            "right": null,
            "top": null,
            "visibility": null,
            "width": null
          }
        },
        "14b9b4efacac41e0a7f412cb06a63fd3": {
          "model_module": "@jupyter-widgets/controls",
          "model_name": "DescriptionStyleModel",
          "model_module_version": "1.5.0",
          "state": {
            "_model_module": "@jupyter-widgets/controls",
            "_model_module_version": "1.5.0",
            "_model_name": "DescriptionStyleModel",
            "_view_count": null,
            "_view_module": "@jupyter-widgets/base",
            "_view_module_version": "1.2.0",
            "_view_name": "StyleView",
            "description_width": ""
          }
        }
      }
    }
  },
  "cells": [
    {
      "cell_type": "code",
      "source": [
        "import torch\n",
        "\n",
        "# Check if CUDA is available\n",
        "if torch.cuda.is_available():\n",
        "  # Get the current GPU device\n",
        "  device = torch.cuda.current_device()\n",
        "  print(f\"Current GPU device: {device}\")\n",
        "  print(f\"GPU name: {torch.cuda.get_device_name(device)}\")\n",
        "else:\n",
        "  print(\"CUDA is not available. Using CPU instead.\")"
      ],
      "metadata": {
        "colab": {
          "base_uri": "https://localhost:8080/"
        },
        "id": "5V9QwJ7tYq5n",
        "outputId": "2a239292-070d-4d95-d165-a9676593ab77"
      },
      "execution_count": null,
      "outputs": [
        {
          "output_type": "stream",
          "name": "stdout",
          "text": [
            "Current GPU device: 0\n",
            "GPU name: Tesla T4\n"
          ]
        }
      ]
    },
    {
      "cell_type": "code",
      "source": [
        "# ===============================\n",
        "# Step 3: Mount Google Drive\n",
        "# ===============================\n",
        "\n",
        "from google.colab import drive\n",
        "drive.mount('/content/drive')"
      ],
      "metadata": {
        "id": "e9MgCaSg5ctp",
        "outputId": "0ce67dc9-5807-4e6f-ddc2-e7f58e530fb6",
        "colab": {
          "base_uri": "https://localhost:8080/"
        }
      },
      "execution_count": null,
      "outputs": [
        {
          "output_type": "stream",
          "name": "stdout",
          "text": [
            "Mounted at /content/drive\n"
          ]
        }
      ]
    },
    {
      "cell_type": "code",
      "source": [
        "# ===============================\n",
        "# Step 1: Setup Model and Paths\n",
        "# ===============================\n",
        "\n",
        "model_id = \"timbrooks/instruct-pix2pix\"\n",
        "\n",
        "pipe = StableDiffusionInstructPix2PixPipeline.from_pretrained(\n",
        "    model_id,\n",
        "    torch_dtype=torch.float16,\n",
        "    safety_checker=None\n",
        ").to(\"cuda\")\n",
        "\n",
        "try:\n",
        "    pipe.enable_xformers_memory_efficient_attention()\n",
        "    print(\"Enabled memory-efficient attention with xformers.\")\n",
        "except Exception as e:\n",
        "    print(\"Could not enable xformers memory-efficient attention:\", e)"
      ],
      "metadata": {
        "id": "-lcf3a-i0wN_"
      },
      "execution_count": null,
      "outputs": []
    },
    {
      "cell_type": "code",
      "source": [
        "import os\n",
        "import math\n",
        "import random\n",
        "import torch\n",
        "from PIL import Image, ImageOps\n",
        "import matplotlib.pyplot as plt\n",
        "from tqdm import tqdm\n",
        "from diffusers import StableDiffusionInstructPix2PixPipeline\n",
        "\n",
        "# INPUT_FOLDER = \"/content/drive/MyDrive/UC_Berkeley/CS280A_Final_Project/person-small/images\"\n",
        "# OUTPUT_FOLDER = \"/content/drive/MyDrive/UC_Berkeley/CS280A_Final_Project/\"\n",
        "INPUT_FOLDER = \"/content/drive/MyDrive/UC_Berkeley/CS280A_Final_Project/wrong_images\"\n",
        "OUTPUT_FOLDER = \"/content/drive/MyDrive/UC_Berkeley/CS280A_Final_Project/wrong_images_edited\"\n",
        "\n",
        "os.makedirs(OUTPUT_FOLDER, exist_ok=True)\n",
        "\n",
        "# ===============================\n",
        "# Step 2: Select Top 10 Images\n",
        "# ===============================\n",
        "\n",
        "image_files = [f for f in os.listdir(INPUT_FOLDER) if f.lower().endswith((\".png\", \".jpg\", \".jpeg\"))]\n",
        "image_files.sort()\n",
        "top_images = image_files[:]\n",
        "print(f\"Selected top {len(top_images)} images for editing.\")\n",
        "\n",
        "# ===============================\n",
        "# Step 3: Define Prompt\n",
        "# ===============================\n",
        "\n",
        "PROMPT = (\n",
        "    \"Change the person's outfit to a well-tailored black suit with matching black pants, \"\n",
        "    \"a crisp white shirt, and a navy blue tie. Ensure the outfit is formal and elegant, \"\n",
        "    \"with all clothing items properly fitted. Maintain the same pose and lighting, photograph style, high resolution.\"\n",
        ")\n",
        "\n",
        "# We will not use a negative prompt to replicate the platform approach more closely.\n",
        "# If needed, you can experiment by adding a negative prompt later.\n",
        "\n",
        "# ===============================\n",
        "# Step 4: Editing Function Mirroring the Platform Approach\n",
        "# ===============================\n",
        "\n",
        "def edit_image(pipe, instruction, image, steps=50, guidance_scale=7.5, image_guidance_scale=1.5, seed=None):\n",
        "    \"\"\"\n",
        "    Edits an image using the StableDiffusionInstructPix2PixPipeline, following the platform's resizing and calling approach.\n",
        "    \"\"\"\n",
        "    # Compute new dimensions as done by the platform code\n",
        "    width, height = image.size\n",
        "    factor = 512 / max(width, height)\n",
        "    factor = math.ceil(min(width, height) * factor / 64) * 64 / min(width, height)\n",
        "    width = int((width * factor) // 64) * 64\n",
        "    height = int((height * factor) // 64) * 64\n",
        "    image = ImageOps.fit(image, (width, height), method=Image.Resampling.LANCZOS)\n",
        "\n",
        "    # Set random seed if provided\n",
        "    if seed is not None:\n",
        "        generator = torch.manual_seed(seed)\n",
        "    else:\n",
        "        generator = None\n",
        "\n",
        "    # Call the pipeline similarly to the platform code\n",
        "    edited_image = pipe(\n",
        "        instruction,\n",
        "        image=image,\n",
        "        guidance_scale=guidance_scale,\n",
        "        image_guidance_scale=image_guidance_scale,\n",
        "        num_inference_steps=steps,\n",
        "        generator=generator,\n",
        "    ).images[0]\n",
        "\n",
        "    return edited_image\n",
        "\n",
        "# ===============================\n",
        "# Step 5: Process Images\n",
        "# ===============================\n",
        "\n",
        "base_seed = 42\n",
        "\n",
        "for idx, img_name in enumerate(tqdm(top_images, desc=\"Editing Images\")):\n",
        "    input_path = os.path.join(INPUT_FOLDER, img_name)\n",
        "    output_path = os.path.join(OUTPUT_FOLDER, img_name)\n",
        "\n",
        "    try:\n",
        "        print(f\"\\nEditing {img_name}...\")\n",
        "        image = Image.open(input_path).convert(\"RGB\")\n",
        "\n",
        "        # Set a unique seed per image for controlled variation\n",
        "        seed = base_seed + idx\n",
        "\n",
        "        # Edit the image using the platform-like method\n",
        "        edited_image = edit_image(\n",
        "            pipe=pipe,\n",
        "            instruction=PROMPT,\n",
        "            image=image,\n",
        "            steps=50,              # Platform default steps\n",
        "            guidance_scale=7.5,    # Platform default text CFG\n",
        "            image_guidance_scale=1.5, # Platform default image CFG\n",
        "        )\n",
        "\n",
        "        edited_image.save(output_path)\n",
        "        print(f\"Saved edited image to {output_path}\")\n",
        "\n",
        "    except Exception as e:\n",
        "        print(f\"Failed to edit {img_name}: {e}\")\n",
        "\n",
        "print(\"\\nEditing completed\")\n",
        "\n",
        "# ===============================\n",
        "# Step 6: Visualization (Optional)\n",
        "# ===============================\n",
        "\n",
        "def display_images(original, edited, title=\"Comparison\"):\n",
        "    fig, axs = plt.subplots(1, 2, figsize=(12, 6))\n",
        "    axs[0].imshow(original)\n",
        "    axs[0].set_title(\"Original Image\")\n",
        "    axs[0].axis(\"off\")\n",
        "\n",
        "    axs[1].imshow(edited)\n",
        "    axs[1].set_title(\"Edited Image\")\n",
        "    axs[1].axis(\"off\")\n",
        "\n",
        "    plt.suptitle(title)\n",
        "    plt.show()\n"
      ],
      "metadata": {
        "id": "ZpPfPtc1bzi_",
        "colab": {
          "base_uri": "https://localhost:8080/",
          "height": 190,
          "referenced_widgets": [
            "c258c2ca647a4183851ea09b82bdfd55",
            "599030d4a887417ab3c3380b7b4b344b",
            "7426e4aed8af4354a3b8a53e242262f6",
            "10cda181d78c4a71ae10a26410f1e583",
            "4e7e39212534477ebd4edc0f9f5faf2f",
            "ae038dad717848349fb92221fe7662e8",
            "10d9646deadc49059bb4ea036cc4171e",
            "606b665382274403bdb9d2c6968f8554",
            "33ad43d4ea864c6cbcd0d64a4e3b5e4d",
            "d987658194e749018be6efc205f0e44d",
            "14b9b4efacac41e0a7f412cb06a63fd3"
          ]
        },
        "outputId": "fc59386d-835b-4dbf-c1f6-e8bdf1417db6"
      },
      "execution_count": null,
      "outputs": [
        {
          "output_type": "stream",
          "name": "stdout",
          "text": [
            "Selected top 1 images for editing.\n"
          ]
        },
        {
          "output_type": "stream",
          "name": "stderr",
          "text": [
            "\rEditing Images:   0%|          | 0/1 [00:00<?, ?it/s]"
          ]
        },
        {
          "output_type": "stream",
          "name": "stdout",
          "text": [
            "\n",
            "Editing frame_00269.png...\n"
          ]
        },
        {
          "output_type": "display_data",
          "data": {
            "text/plain": [
              "  0%|          | 0/50 [00:00<?, ?it/s]"
            ],
            "application/vnd.jupyter.widget-view+json": {
              "version_major": 2,
              "version_minor": 0,
              "model_id": "c258c2ca647a4183851ea09b82bdfd55"
            }
          },
          "metadata": {}
        },
        {
          "output_type": "stream",
          "name": "stderr",
          "text": [
            "Editing Images: 100%|██████████| 1/1 [00:07<00:00,  7.04s/it]"
          ]
        },
        {
          "output_type": "stream",
          "name": "stdout",
          "text": [
            "Saved edited image to /content/drive/MyDrive/UC_Berkeley/CS280A_Final_Project/wrong_images_edited/frame_00269.png\n",
            "\n",
            "Editing completed\n"
          ]
        },
        {
          "output_type": "stream",
          "name": "stderr",
          "text": [
            "\n"
          ]
        }
      ]
    }
  ]
}